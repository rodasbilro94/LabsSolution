{
 "cells": [
  {
   "cell_type": "code",
   "execution_count": 1,
   "id": "d878a702",
   "metadata": {},
   "outputs": [
    {
     "name": "stdout",
     "output_type": "stream",
     "text": [
      "········\n"
     ]
    }
   ],
   "source": [
    "import pymysql\n",
    "from sqlalchemy import create_engine\n",
    "import pandas as pd\n",
    "import getpass\n",
    "password = getpass.getpass()\n",
    "connection_string = 'mysql+pymysql://root:' + password + '@localhost/Sakila'\n",
    "engine = create_engine(connection_string)"
   ]
  },
  {
   "cell_type": "code",
   "execution_count": null,
   "id": "63ded95a",
   "metadata": {},
   "outputs": [],
   "source": [
    "query = '''\n",
    "    SELECT\n",
    "      DISTINCT title, release_year, length, rating, special_features, language_id,\n",
    "      CASE\n",
    "        WHEN EXISTS (\n",
    "          SELECT 1\n",
    "          FROM rental\n",
    "          INNER JOIN inventory ON rental.inventory_id = inventory.inventory_id\n",
    "          WHERE inventory.film_id = film.film_id\n",
    "          AND MONTH(rental_date) = 5\n",
    "          AND YEAR(rental_date) = 2005\n",
    "        ) THEN TRUE\n",
    "        ELSE FALSE\n",
    "      END AS rented_in_may\n",
    "    FROM film;\n",
    "'''\n",
    "\n",
    "df = pd.read_sql_query(query, engine)\n",
    "display(df.head(1000))\n",
    "display(df.shape)"
   ]
  },
  {
   "cell_type": "code",
   "execution_count": null,
   "id": "41f5c2c7",
   "metadata": {},
   "outputs": [],
   "source": [
    "import pandas as pd\n",
    "import numpy as np\n",
    "from sklearn.model_selection import train_test_split\n",
    "from sklearn.linear_model import LogisticRegression\n",
    "\n",
    "# Numerical Features\n",
    "# release_year\n",
    "# length\n",
    "\n",
    "# Categorical Features\n",
    "# rating\n",
    "# special_features\n",
    "# language_id\n",
    "\n",
    "# Encode categorical variables\n",
    "df['language_id'] = df['language_id'].astype('category').cat.codes\n",
    "df['rating'] = df['rating'].astype('category').cat.codes\n",
    "df['special_features'] = df['special_features'].astype('category').cat.codes\n",
    "\n",
    "# Scale numerical variables\n",
    "from sklearn.preprocessing import StandardScaler\n",
    "scaler = StandardScaler()\n",
    "df[['release_year', 'length']] = scaler.fit_transform(df[['release_year', 'length']])\n",
    "\n",
    "display(df.head(1000))\n",
    "\n",
    "# Split the data into training and testing sets\n",
    "X = df[['language_id', 'rating', 'special_features', 'release_year', 'length']]\n",
    "y = df['rented_in_may']\n",
    "\n",
    "X_train, X_test, y_train, y_test = train_test_split(X, y, test_size=0.25, random_state=100)\n",
    "\n",
    "# Create a logistic regression model\n",
    "model = LogisticRegression()\n",
    "\n",
    "# Fit the model to the training data\n",
    "model.fit(X_train, y_train)\n",
    "\n",
    "# Evaluate the model\n",
    "y_pred = model.predict(X_test)\n",
    "accuracy = np.mean(y_pred == y_test)\n",
    "print('Accuracy:', accuracy)\n",
    "score = model.score(X_test, y_test)\n",
    "print('Model score:', score)\n",
    "\n",
    "# Make predictions for all films in the dataset\n",
    "predictions = model.predict_proba(X_test)\n",
    "\n",
    "# Calculate the probability that a film will be rented in May 2005\n",
    "probability_rented_in_may = predictions[:, 1]\n",
    "\n",
    "# Add the probability that a film will be rented in May 2005 to the dataset\n",
    "X_test['probability_rented_in_may'] = probability_rented_in_may\n",
    "\n",
    "# Print the probability that a film will be rented in May 2005 for all films in the dataset\n",
    "d = pd.DataFrame(X_test)\n",
    "d"
   ]
  }
 ],
 "metadata": {
  "kernelspec": {
   "display_name": "Python 3 (ipykernel)",
   "language": "python",
   "name": "python3"
  },
  "language_info": {
   "codemirror_mode": {
    "name": "ipython",
    "version": 3
   },
   "file_extension": ".py",
   "mimetype": "text/x-python",
   "name": "python",
   "nbconvert_exporter": "python",
   "pygments_lexer": "ipython3",
   "version": "3.11.4"
  }
 },
 "nbformat": 4,
 "nbformat_minor": 5
}
