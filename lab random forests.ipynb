{
 "cells": [
  {
   "cell_type": "code",
   "execution_count": 17,
   "id": "780a7f42",
   "metadata": {},
   "outputs": [],
   "source": [
    "import pandas as pd\n",
    "from sklearn.model_selection import train_test_split, GridSearchCV\n",
    "from sklearn.ensemble import RandomForestClassifier\n",
    "from sklearn.metrics import make_scorer, f1_score\n",
    "from sklearn.utils import resample\n",
    "from sklearn.preprocessing import OneHotEncoder\n",
    "\n",
    "# 1. Data Loading (using subsets)\n",
    "numerical = pd.read_csv('numerical.csv', nrows=10000)\n",
    "categorical = pd.read_csv('categorical (1).csv', nrows=10000)\n",
    "target = pd.read_csv('target (1).csv', nrows=10000)\n",
    "\n",
    "# Encode the categorical variables using one-hot encoding\n",
    "encoder = OneHotEncoder(drop='first', sparse_output=False)\n",
    "encoded_categorical = encoder.fit_transform(categorical)\n",
    "encoded_categorical_df = pd.DataFrame(encoded_categorical, columns=encoder.get_feature_names_out(categorical.columns))\n",
    "\n",
    "# Merging data\n",
    "data = pd.concat([numerical, encoded_categorical_df], axis=1)\n",
    "X = data\n",
    "y = target['TARGET_B']\n",
    "\n",
    "# 2. Addressing Class Imbalance using Upsampling\n",
    "X_train, X_test, y_train, y_test = train_test_split(X, y, test_size=0.25, random_state=42)\n",
    "\n",
    "# Upsample minority class\n",
    "X_train_majority = X_train[y_train == 0]\n",
    "X_train_minority = X_train[y_train == 1]\n",
    "\n",
    "X_train_minority_upsampled = resample(X_train_minority, \n",
    "                                      replace=True, \n",
    "                                      n_samples=len(X_train_majority), \n",
    "                                      random_state=42)\n",
    "\n",
    "X_train_upsampled = pd.concat([X_train_majority, X_train_minority_upsampled])\n",
    "y_train_upsampled = y_train.loc[X_train_upsampled.index]\n",
    "\n",
    "# 3. Model Training with GridSearchCV using F1 Score as the metric\n",
    "clf = RandomForestClassifier()\n",
    "param_grid = {\n",
    "    'n_estimators': [10, 50, 100],\n",
    "    'max_depth': [None, 10, 20, 30],\n",
    "    'min_samples_split': [2, 5, 10]\n",
    "}\n",
    "f1_scorer = make_scorer(f1_score)\n",
    "grid_search = GridSearchCV(clf, param_grid, scoring=f1_scorer, cv=5)\n",
    "grid_search.fit(X_train_upsampled, y_train_upsampled)\n",
    "\n",
    "# 4. Model Evaluation\n",
    "best_model = grid_search.best_estimator_\n",
    "y_pred = best_model.predict(X_test)\n",
    "\n",
    "\n"
   ]
  },
  {
   "cell_type": "code",
   "execution_count": null,
   "id": "26d09b22",
   "metadata": {},
   "outputs": [],
   "source": [
    "\n",
    "\n",
    "\n"
   ]
  }
 ],
 "metadata": {
  "kernelspec": {
   "display_name": "Python 3 (ipykernel)",
   "language": "python",
   "name": "python3"
  },
  "language_info": {
   "codemirror_mode": {
    "name": "ipython",
    "version": 3
   },
   "file_extension": ".py",
   "mimetype": "text/x-python",
   "name": "python",
   "nbconvert_exporter": "python",
   "pygments_lexer": "ipython3",
   "version": "3.11.4"
  }
 },
 "nbformat": 4,
 "nbformat_minor": 5
}
