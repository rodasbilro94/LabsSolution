{
 "cells": [
  {
   "cell_type": "code",
   "execution_count": 5,
   "id": "0be32c02",
   "metadata": {},
   "outputs": [
    {
     "name": "stderr",
     "output_type": "stream",
     "text": [
      "C:\\Users\\rodas\\AppData\\Local\\Temp\\ipykernel_4808\\4279980522.py:4: DtypeWarning: Columns (8) have mixed types. Specify dtype option on import or set low_memory=False.\n",
      "  data = pd.read_csv('learningSet.csv')\n"
     ]
    },
    {
     "data": {
      "text/plain": [
       "F        51277\n",
       "M        39094\n",
       "other     5041\n",
       "Name: GENDER, dtype: int64"
      ]
     },
     "execution_count": 5,
     "metadata": {},
     "output_type": "execute_result"
    }
   ],
   "source": [
    "import pandas as pd \n",
    "\n",
    "# Load the dataset from the correct path\n",
    "data = pd.read_csv('learningSet.csv')\n",
    "\n",
    "# Step 1: Check for null values in all columns.\n",
    "null_values_stepwise = data.isnull().sum()\n",
    "\n",
    "# Step 2: Create a new empty list called drop_list and add the columns 'OSOURCE' and 'ZIP'.\n",
    "drop_list_stepwise = ['OSOURCE', 'ZIP']\n",
    "\n",
    "# Step 3: Identify columns that have over 85% missing values and add them to the drop_list.\n",
    "missing_values_percentage_stepwise = data.isnull().mean()\n",
    "columns_over_85_missing_stepwise = missing_values_percentage_stepwise[missing_values_percentage_stepwise > 0.85].index.tolist()\n",
    "drop_list_stepwise.extend(columns_over_85_missing_stepwise)\n",
    "\n",
    "# Step 4: Remove the columns included in the drop_list from the dataframe.\n",
    "data.drop(columns=drop_list_stepwise, inplace=True, errors='ignore')\n",
    "\n",
    "# Step 5: Replace null values in GENDER column and reduce the number of categories.\n",
    "data['GENDER'] = data['GENDER'].fillna('F')\n",
    "data['GENDER'] = data['GENDER'].apply(lambda x: x if x in ['M', 'F'] else 'other')\n",
    "\n",
    "# Display the value counts of GENDER column after processing\n",
    "gender_counts_stepwise = data['GENDER'].value_counts()\n",
    "\n",
    "gender_counts_stepwise\n"
   ]
  },
  {
   "cell_type": "code",
   "execution_count": null,
   "id": "5b51a80e",
   "metadata": {},
   "outputs": [],
   "source": []
  },
  {
   "cell_type": "code",
   "execution_count": null,
   "id": "2f560389",
   "metadata": {},
   "outputs": [],
   "source": []
  },
  {
   "cell_type": "code",
   "execution_count": null,
   "id": "4709eaa1",
   "metadata": {},
   "outputs": [],
   "source": []
  }
 ],
 "metadata": {
  "kernelspec": {
   "display_name": "Python 3 (ipykernel)",
   "language": "python",
   "name": "python3"
  },
  "language_info": {
   "codemirror_mode": {
    "name": "ipython",
    "version": 3
   },
   "file_extension": ".py",
   "mimetype": "text/x-python",
   "name": "python",
   "nbconvert_exporter": "python",
   "pygments_lexer": "ipython3",
   "version": "3.11.4"
  }
 },
 "nbformat": 4,
 "nbformat_minor": 5
}
