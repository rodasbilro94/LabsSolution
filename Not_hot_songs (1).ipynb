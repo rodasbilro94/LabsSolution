{
 "cells": [
  {
   "cell_type": "code",
   "execution_count": 1,
   "id": "8e8b4f82",
   "metadata": {},
   "outputs": [],
   "source": [
    "import pandas as pd\n",
    "import requests\n",
    "from bs4 import BeautifulSoup"
   ]
  },
  {
   "cell_type": "code",
   "execution_count": null,
   "id": "00cb5bcb",
   "metadata": {},
   "outputs": [],
   "source": [
    "not_hot100 = not_hot100.sample(2500)\n",
    "not_hot100"
   ]
  },
  {
   "cell_type": "code",
   "execution_count": null,
   "id": "e7a73017",
   "metadata": {},
   "outputs": [],
   "source": [
    "not_hot100 = not_hot100[['artist', 'title']]\n",
    "not_hot100"
   ]
  },
  {
   "cell_type": "code",
   "execution_count": null,
   "id": "0badd274",
   "metadata": {},
   "outputs": [],
   "source": [
    "not_hot100.rename(columns={'ArtistName': 'artist', 'SongName': 'title'}, inplace=True)\n",
    "not_hot100"
   ]
  },
  {
   "cell_type": "code",
   "execution_count": null,
   "id": "d4e1bc62",
   "metadata": {},
   "outputs": [],
   "source": [
    "hot100 = pd.read_csv('not_hot.csv')\n",
    "hot100"
   ]
  },
  {
   "cell_type": "code",
   "execution_count": null,
   "id": "6326125e",
   "metadata": {},
   "outputs": [],
   "source": [
    "concatenated_df = pd.concat([hot100, not_hot100]).drop_duplicates()\n",
    "concatenated_df"
   ]
  },
  {
   "cell_type": "code",
   "execution_count": null,
   "id": "345cf4f1",
   "metadata": {},
   "outputs": [],
   "source": [
    "concatenated_df = concatenated_df.reset_index(drop=True)\n",
    "concatenated_df"
   ]
  },
  {
   "cell_type": "code",
   "execution_count": null,
   "id": "2cac8269",
   "metadata": {},
   "outputs": [],
   "source": []
  },
  {
   "cell_type": "code",
   "execution_count": null,
   "id": "4c746e34",
   "metadata": {},
   "outputs": [],
   "source": []
  }
 ],
 "metadata": {
  "kernelspec": {
   "display_name": "Python 3 (ipykernel)",
   "language": "python",
   "name": "python3"
  },
  "language_info": {
   "codemirror_mode": {
    "name": "ipython",
    "version": 3
   },
   "file_extension": ".py",
   "mimetype": "text/x-python",
   "name": "python",
   "nbconvert_exporter": "python",
   "pygments_lexer": "ipython3",
   "version": "3.11.4"
  }
 },
 "nbformat": 4,
 "nbformat_minor": 5
}
