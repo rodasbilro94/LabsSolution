{
 "cells": [
  {
   "cell_type": "code",
   "execution_count": 1,
   "id": "adc724c2",
   "metadata": {},
   "outputs": [
    {
     "data": {
      "text/plain": [
       "{'on': True, 'volume': 70, 'active_channel': 5, 'input': 'HDMI1', 'size': 42}"
      ]
     },
     "execution_count": 1,
     "metadata": {},
     "output_type": "execute_result"
    }
   ],
   "source": [
    "class Tv:\n",
    "    def __init__(self, size: float):\n",
    "        if size not in [42, 50, 55, 65, 75]:\n",
    "            raise ValueError(\"Invalid TV size\")\n",
    "        \n",
    "        self.on = False\n",
    "        self.volume = 50  \n",
    "        self.active_channel = 1  # Default channel\n",
    "        self.input = \"Anthena\"  # Default input\n",
    "        self.size = size\n",
    "\n",
    "    def switch_on(self):\n",
    "        self.on = True\n",
    "\n",
    "    def switch_off(self):\n",
    "        self.on = False\n",
    "\n",
    "    def set_volume(self, volume: int):\n",
    "        if 0 <= volume <= 100:\n",
    "            self.volume = volume\n",
    "        else:\n",
    "            raise ValueError(\"Volume must be between 0 and 100\")\n",
    "\n",
    "    def change_channel(self, channel: int):\n",
    "        if 1 <= channel <= 10:\n",
    "            self.active_channel = channel\n",
    "        else:\n",
    "            raise ValueError(\"Channel must be between 1 and 10\")\n",
    "\n",
    "    def set_input(self, value: str):\n",
    "        valid_inputs = [\"Anthena\", \"HDMI1\", \"HDMI2\", \"HDMI3\"]\n",
    "        if value in valid_inputs:\n",
    "            self.input = value\n",
    "        else:\n",
    "            raise ValueError(f\"Invalid input value. Must be one of {valid_inputs}\")\n",
    "\n",
    "\n",
    "tv = Tv(42)\n",
    "tv.switch_on()\n",
    "tv.set_volume(70)\n",
    "tv.change_channel(5)\n",
    "tv.set_input(\"HDMI1\")\n",
    "vars(tv)  \n"
   ]
  },
  {
   "cell_type": "code",
   "execution_count": null,
   "id": "baf4990a",
   "metadata": {},
   "outputs": [],
   "source": []
  }
 ],
 "metadata": {
  "kernelspec": {
   "display_name": "Python 3 (ipykernel)",
   "language": "python",
   "name": "python3"
  },
  "language_info": {
   "codemirror_mode": {
    "name": "ipython",
    "version": 3
   },
   "file_extension": ".py",
   "mimetype": "text/x-python",
   "name": "python",
   "nbconvert_exporter": "python",
   "pygments_lexer": "ipython3",
   "version": "3.11.4"
  }
 },
 "nbformat": 4,
 "nbformat_minor": 5
}
