{
 "cells": [
  {
   "cell_type": "code",
   "execution_count": 1,
   "id": "ce535fb6",
   "metadata": {},
   "outputs": [],
   "source": [
    "from bs4 import BeautifulSoup\n",
    "import requests\n",
    "import pandas as pd"
   ]
  },
  {
   "cell_type": "code",
   "execution_count": 2,
   "id": "c72f3bed",
   "metadata": {},
   "outputs": [
    {
     "data": {
      "text/plain": [
       "'https://www.billboard.com/charts/hot-100/'"
      ]
     },
     "execution_count": 2,
     "metadata": {},
     "output_type": "execute_result"
    }
   ],
   "source": [
    "bill_url = \"https://www.billboard.com/charts/hot-100/\"\n",
    "bill_url"
   ]
  },
  {
   "cell_type": "code",
   "execution_count": 3,
   "id": "8fe523e8",
   "metadata": {},
   "outputs": [],
   "source": [
    "def scrape_hot100() ->pd.DataFrame:\n",
    "  \n",
    "    url = \"https://www.billboard.com/charts/hot-100\"\n",
    "    response = requests.get(url)\n",
    "    soup = BeautifulSoup(response.text, 'html.parser')\n",
    "    \n",
    "    artists = [artist.text.strip() for artist in soup.select('span.c-label.a-no-trucate')]\n",
    "    titles = [title.text.strip() for title in soup.select('h3.a-no-trucate.c-title')]\n",
    "    \n",
    "    data = {\n",
    "    'Artist': artists,\n",
    "    'Title': titles,}\n",
    "    df = pd.DataFrame(data)\n",
    "    \n",
    "    return df "
   ]
  },
  {
   "cell_type": "code",
   "execution_count": 4,
   "id": "dff15c29",
   "metadata": {},
   "outputs": [],
   "source": [
    "hot100 = scrape_hot100()\n"
   ]
  },
  {
   "cell_type": "code",
   "execution_count": 5,
   "id": "c7e07dfe",
   "metadata": {},
   "outputs": [],
   "source": [
    "hot100.to_csv('hot100.csv', index=False)\n"
   ]
  },
  {
   "cell_type": "code",
   "execution_count": 37,
   "id": "4a08b037",
   "metadata": {},
   "outputs": [
    {
     "data": {
      "text/html": [
       "<div>\n",
       "<style scoped>\n",
       "    .dataframe tbody tr th:only-of-type {\n",
       "        vertical-align: middle;\n",
       "    }\n",
       "\n",
       "    .dataframe tbody tr th {\n",
       "        vertical-align: top;\n",
       "    }\n",
       "\n",
       "    .dataframe thead th {\n",
       "        text-align: right;\n",
       "    }\n",
       "</style>\n",
       "<table border=\"1\" class=\"dataframe\">\n",
       "  <thead>\n",
       "    <tr style=\"text-align: right;\">\n",
       "      <th></th>\n",
       "      <th>Artist</th>\n",
       "      <th>Title</th>\n",
       "    </tr>\n",
       "  </thead>\n",
       "  <tbody>\n",
       "    <tr>\n",
       "      <th>0</th>\n",
       "      <td>Doja Cat</td>\n",
       "      <td>Paint The Town Red</td>\n",
       "    </tr>\n",
       "    <tr>\n",
       "      <th>1</th>\n",
       "      <td>SZA</td>\n",
       "      <td>Snooze</td>\n",
       "    </tr>\n",
       "    <tr>\n",
       "      <th>2</th>\n",
       "      <td>Luke Combs</td>\n",
       "      <td>Fast Car</td>\n",
       "    </tr>\n",
       "    <tr>\n",
       "      <th>3</th>\n",
       "      <td>Taylor Swift</td>\n",
       "      <td>Cruel Summer</td>\n",
       "    </tr>\n",
       "    <tr>\n",
       "      <th>4</th>\n",
       "      <td>Zach Bryan Featuring Kacey Musgraves</td>\n",
       "      <td>I Remember Everything</td>\n",
       "    </tr>\n",
       "    <tr>\n",
       "      <th>...</th>\n",
       "      <td>...</td>\n",
       "      <td>...</td>\n",
       "    </tr>\n",
       "    <tr>\n",
       "      <th>95</th>\n",
       "      <td>Tim McGraw</td>\n",
       "      <td>Standing Room Only</td>\n",
       "    </tr>\n",
       "    <tr>\n",
       "      <th>96</th>\n",
       "      <td>Rod Wave</td>\n",
       "      <td>Checkmate</td>\n",
       "    </tr>\n",
       "    <tr>\n",
       "      <th>97</th>\n",
       "      <td>Dylan Scott</td>\n",
       "      <td>Can't Have Mine</td>\n",
       "    </tr>\n",
       "    <tr>\n",
       "      <th>98</th>\n",
       "      <td>Victoria Monet</td>\n",
       "      <td>On My Mama</td>\n",
       "    </tr>\n",
       "    <tr>\n",
       "      <th>99</th>\n",
       "      <td>Olivia Rodrigo</td>\n",
       "      <td>Love Is Embarrassing</td>\n",
       "    </tr>\n",
       "  </tbody>\n",
       "</table>\n",
       "<p>100 rows × 2 columns</p>\n",
       "</div>"
      ],
      "text/plain": [
       "                                  Artist                  Title\n",
       "0                               Doja Cat     Paint The Town Red\n",
       "1                                    SZA                 Snooze\n",
       "2                             Luke Combs               Fast Car\n",
       "3                           Taylor Swift           Cruel Summer\n",
       "4   Zach Bryan Featuring Kacey Musgraves  I Remember Everything\n",
       "..                                   ...                    ...\n",
       "95                            Tim McGraw     Standing Room Only\n",
       "96                              Rod Wave              Checkmate\n",
       "97                           Dylan Scott        Can't Have Mine\n",
       "98                        Victoria Monet             On My Mama\n",
       "99                        Olivia Rodrigo   Love Is Embarrassing\n",
       "\n",
       "[100 rows x 2 columns]"
      ]
     },
     "execution_count": 37,
     "metadata": {},
     "output_type": "execute_result"
    }
   ],
   "source": [
    "hot100\n"
   ]
  },
  {
   "cell_type": "code",
   "execution_count": null,
   "id": "4387564d",
   "metadata": {},
   "outputs": [],
   "source": []
  }
 ],
 "metadata": {
  "kernelspec": {
   "display_name": "Python 3 (ipykernel)",
   "language": "python",
   "name": "python3"
  },
  "language_info": {
   "codemirror_mode": {
    "name": "ipython",
    "version": 3
   },
   "file_extension": ".py",
   "mimetype": "text/x-python",
   "name": "python",
   "nbconvert_exporter": "python",
   "pygments_lexer": "ipython3",
   "version": "3.11.4"
  }
 },
 "nbformat": 4,
 "nbformat_minor": 5
}
