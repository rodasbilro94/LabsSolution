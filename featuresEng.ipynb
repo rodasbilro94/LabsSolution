{
 "cells": [
  {
   "cell_type": "code",
   "execution_count": null,
   "id": "4af5ed79",
   "metadata": {},
   "outputs": [],
   "source": []
  },
  {
   "cell_type": "code",
   "execution_count": 6,
   "id": "cc939e98",
   "metadata": {},
   "outputs": [
    {
     "name": "stderr",
     "output_type": "stream",
     "text": [
      "C:\\Users\\rodas\\AppData\\Local\\Temp\\ipykernel_4808\\4228614788.py:4: DtypeWarning: Columns (8) have mixed types. Specify dtype option on import or set low_memory=False.\n",
      "  data = pd.read_csv('learningSet.csv')\n"
     ]
    },
    {
     "name": "stdout",
     "output_type": "stream",
     "text": [
      "GEOCODE2    0\n",
      "WEALTH1     0\n",
      "ADI         0\n",
      "DMA         0\n",
      "MSA         0\n",
      "dtype: int64\n"
     ]
    }
   ],
   "source": [
    "import pandas as pd \n",
    "import matplotlib.pyplot as plt\n",
    "\n",
    "# Load the dataset\n",
    "data = pd.read_csv('learningSet.csv')\n",
    "\n",
    "# Check for null values in the numerical columns\n",
    "numerical_nulls = data.select_dtypes(include=['float64', 'int64']).isnull().sum()\n",
    "\n",
    "# Cleaning the GEOCODE2 column\n",
    "data['GEOCODE2'].fillna('A', inplace=True)\n",
    "data['GEOCODE2'].replace(' ', 'A', inplace=True)\n",
    "\n",
    "# Cleaning the WEALTH1 column\n",
    "wealth1_median = data['WEALTH1'].median()\n",
    "data['WEALTH1'].fillna(wealth1_median, inplace=True)\n",
    "\n",
    "# Cleaning the ADI column\n",
    "adi_median = data['ADI'].median()\n",
    "data['ADI'].fillna(adi_median, inplace=True)\n",
    "\n",
    "# Cleaning the DMA column\n",
    "dma_mode = data['DMA'].mode()[0]\n",
    "data['DMA'].fillna(dma_mode, inplace=True)\n",
    "\n",
    "# Cleaning the MSA column\n",
    "msa_mode = data['MSA'].mode()[0]\n",
    "data['MSA'].fillna(msa_mode, inplace=True)\n",
    "\n",
    "# Verify the cleaning\n",
    "cleaned_columns_check = data[['GEOCODE2', 'WEALTH1', 'ADI', 'DMA', 'MSA']].isnull().sum()\n",
    "\n",
    "print(cleaned_columns_check)\n"
   ]
  },
  {
   "cell_type": "code",
   "execution_count": null,
   "id": "489dbe05",
   "metadata": {},
   "outputs": [],
   "source": []
  }
 ],
 "metadata": {
  "kernelspec": {
   "display_name": "Python 3 (ipykernel)",
   "language": "python",
   "name": "python3"
  },
  "language_info": {
   "codemirror_mode": {
    "name": "ipython",
    "version": 3
   },
   "file_extension": ".py",
   "mimetype": "text/x-python",
   "name": "python",
   "nbconvert_exporter": "python",
   "pygments_lexer": "ipython3",
   "version": "3.11.4"
  }
 },
 "nbformat": 4,
 "nbformat_minor": 5
}
