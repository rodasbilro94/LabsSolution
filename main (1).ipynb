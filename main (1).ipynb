{
 "cells": [
  {
   "cell_type": "markdown",
   "metadata": {},
   "source": [
    "# Advanced Regular Expressions Lab\n",
    "\n",
    "Complete the following set of exercises to solidify your knowledge of regular expressions."
   ]
  },
  {
   "cell_type": "code",
   "execution_count": null,
   "metadata": {},
   "outputs": [],
   "source": [
    "import re"
   ]
  },
  {
   "cell_type": "markdown",
   "metadata": {},
   "source": [
    "### 1. Use a regular expression to find and extract all vowels in the following text."
   ]
  },
  {
   "cell_type": "code",
   "execution_count": null,
   "metadata": {},
   "outputs": [],
   "source": [
    "text = \"This is going to be a sentence with a good number of vowels in it.\""
   ]
  },
  {
   "cell_type": "markdown",
   "metadata": {},
   "source": [
    "′\n",
    " i \n",
    "′\n",
    " , \n",
    "′\n",
    " i \n",
    "′\n",
    " , \n",
    "′\n",
    " o \n",
    "′\n",
    " , \n",
    "′\n",
    " i \n",
    "′\n",
    " , \n",
    "′\n",
    " o \n",
    "′\n",
    " , \n",
    "′\n",
    " e \n",
    "′\n",
    " , \n",
    "′\n",
    " a \n",
    "′\n",
    " , \n",
    "′\n",
    " e \n",
    "′\n",
    " , \n",
    "′\n",
    " e \n",
    "′\n",
    " , \n",
    "′\n",
    " e \n",
    "′\n",
    " , \n",
    "′\n",
    " i \n",
    "′\n",
    " , \n",
    "′\n",
    " a \n",
    "′\n",
    " , \n",
    "′\n",
    " o \n",
    "′\n",
    " , \n",
    "′\n",
    " o \n",
    "′\n",
    " , \n",
    "′\n",
    " u \n",
    "′\n",
    " , \n",
    "′\n",
    " e \n",
    "′\n",
    " , \n",
    "′\n",
    " o \n",
    "′\n",
    " , \n",
    "′\n",
    " o \n",
    "′\n",
    " , \n",
    "′\n",
    " e \n",
    "′\n",
    " , \n",
    "′\n",
    " i \n",
    "′\n",
    " , \n",
    "′\n",
    " i \n"
   ]
  },
  {
   "cell_type": "markdown",
   "metadata": {},
   "source": [
    "### 2. Use a regular expression to find and extract all occurrences and tenses (singular and plural) of the word \"puppy\" in the text below."
   ]
  },
  {
   "cell_type": "code",
   "execution_count": null,
   "metadata": {},
   "outputs": [],
   "source": [
    "text = \"The puppy saw all the rest of the puppies playing and wanted to join them. I saw this and wanted a puppy of my own!\""
   ]
  },
  {
   "cell_type": "code",
   "execution_count": null,
   "metadata": {},
   "outputs": [],
   "source": [
    "′\n",
    " puppy \n",
    "′\n",
    " , \n",
    "′\n",
    " puppies \n",
    "′\n",
    " , \n",
    "′\n",
    " puppy \n",
    "′"
   ]
  },
  {
   "cell_type": "markdown",
   "metadata": {},
   "source": [
    "### 3. Use a regular expression to find and extract all tenses (present and past) of the word \"run\" in the text below."
   ]
  },
  {
   "cell_type": "code",
   "execution_count": null,
   "metadata": {},
   "outputs": [],
   "source": [
    "text = \"I ran the relay race the only way I knew how to run it.\""
   ]
  },
  {
   "cell_type": "code",
   "execution_count": null,
   "metadata": {},
   "outputs": [],
   "source": [
    "ran, run"
   ]
  },
  {
   "cell_type": "markdown",
   "metadata": {},
   "source": [
    "### 4. Use a regular expression to find and extract all words that begin with the letter \"r\" from the previous text."
   ]
  },
  {
   "cell_type": "code",
   "execution_count": null,
   "metadata": {},
   "outputs": [],
   "source": [
    "ran,relay,race,run"
   ]
  },
  {
   "cell_type": "markdown",
   "metadata": {},
   "source": [
    "### 5. Use a regular expression to find and substitute the letter \"i\" for the exclamation marks in the text below."
   ]
  },
  {
   "cell_type": "code",
   "execution_count": null,
   "metadata": {},
   "outputs": [],
   "source": [
    "text = \"Th!s !s a sentence w!th spec!al characters !n !t.\""
   ]
  },
  {
   "cell_type": "code",
   "execution_count": null,
   "metadata": {},
   "outputs": [],
   "source": [
    "this is a sentence with special carachters in it"
   ]
  },
  {
   "cell_type": "markdown",
   "metadata": {},
   "source": [
    "### 6. Use a regular expression to find and extract words longer than 4 characters in the text below."
   ]
  },
  {
   "cell_type": "code",
   "execution_count": null,
   "metadata": {},
   "outputs": [],
   "source": [
    "text = \"This sentence has words of varying lengths.\""
   ]
  },
  {
   "cell_type": "code",
   "execution_count": null,
   "metadata": {},
   "outputs": [],
   "source": [
    "sentence,,words,varying,lenghts"
   ]
  },
  {
   "cell_type": "markdown",
   "metadata": {},
   "source": [
    "### 7. Use a regular expression to find and extract all occurrences of the letter \"b\", some letter(s), and then the letter \"t\" in the sentence below."
   ]
  },
  {
   "cell_type": "code",
   "execution_count": null,
   "metadata": {},
   "outputs": [],
   "source": [
    "text = \"I bet the robot couldn't beat the other bot with a bat, but instead it bit me.\""
   ]
  },
  {
   "cell_type": "markdown",
   "metadata": {},
   "source": [
    "bet,bot,beat,bot,bat,but,bit"
   ]
  },
  {
   "cell_type": "markdown",
   "metadata": {},
   "source": [
    "### 8. Use a regular expression to find and extract all words that contain either \"ea\" or \"eo\" in them."
   ]
  },
  {
   "cell_type": "code",
   "execution_count": null,
   "metadata": {},
   "outputs": [],
   "source": [
    "text = \"During many of the peaks and troughs of history, the people living it didn't fully realize what was unfolding. But we all know we're navigating breathtaking history: Nearly every day could be — maybe will be — a book.\"\n"
   ]
  },
  {
   "cell_type": "markdown",
   "metadata": {},
   "source": [
    "peaks,people,realize,breathtaking,nearly"
   ]
  },
  {
   "cell_type": "markdown",
   "metadata": {},
   "source": [
    "### 9. Use a regular expression to find and extract all the capitalized words in the text below individually."
   ]
  },
  {
   "cell_type": "code",
   "execution_count": null,
   "metadata": {},
   "outputs": [],
   "source": [
    "text = \"Teddy Roosevelt and Abraham Lincoln walk into a bar.\""
   ]
  },
  {
   "cell_type": "markdown",
   "metadata": {},
   "source": [
    "# ′\n",
    " Teddy \n",
    "′\n",
    " , \n",
    "′\n",
    " Roosevelt \n",
    "′\n",
    " , \n",
    "′\n",
    " Abraham \n",
    "′\n",
    " , \n",
    "′\n",
    " Lincoln \n",
    "′"
   ]
  },
  {
   "cell_type": "markdown",
   "metadata": {},
   "source": [
    "### 10. Use a regular expression to find and extract all the sets of consecutive capitalized words in the text above."
   ]
  },
  {
   "cell_type": "markdown",
   "metadata": {},
   "source": [
    "′\n",
    " TeddyRoosevelt \n",
    "′\n",
    " , \n",
    "′\n",
    " AbrahamLincoln \n",
    "′"
   ]
  },
  {
   "cell_type": "markdown",
   "metadata": {},
   "source": [
    "### 11. Use a regular expression to find and extract all the quotes from the text below.\n",
    "\n",
    "*Hint: This one is a little more complex than the single quote example in the lesson because there are multiple quotes in the text.*"
   ]
  },
  {
   "cell_type": "code",
   "execution_count": null,
   "metadata": {},
   "outputs": [],
   "source": [
    "text = 'Roosevelt says to Lincoln, \"I will bet you $50 I can get the bartender to give me a free drink.\" Lincoln says, \"I am in!\"'\n"
   ]
  },
  {
   "cell_type": "markdown",
   "metadata": {},
   "source": [
    "'I will bet you $50 I can get the bartender to give me a free drink.', 'I am in!'"
   ]
  },
  {
   "cell_type": "markdown",
   "metadata": {},
   "source": [
    "### 12. Use a regular expression to find and extract all the numbers from the text below."
   ]
  },
  {
   "cell_type": "code",
   "execution_count": null,
   "metadata": {},
   "outputs": [],
   "source": [
    "text = \"There were 30 students in the class. Of the 30 students, 14 were male and 16 were female. Only 10 students got A's on the exam.\"\n"
   ]
  },
  {
   "cell_type": "markdown",
   "metadata": {},
   "source": [
    "′\n",
    " 30 \n",
    "′\n",
    " , \n",
    "′\n",
    " 30 \n",
    "′\n",
    " , \n",
    "′\n",
    " 14 \n",
    "′\n",
    " , \n",
    "′\n",
    " 16 \n",
    "′\n",
    " , \n",
    "′\n",
    " 10 \n",
    "′"
   ]
  },
  {
   "cell_type": "markdown",
   "metadata": {},
   "source": [
    "### 13. Use a regular expression to find and extract all the social security numbers from the text below."
   ]
  },
  {
   "cell_type": "code",
   "execution_count": null,
   "metadata": {},
   "outputs": [],
   "source": [
    "text = \"\"\"\n",
    "Henry's social security number is 876-93-2289 and his phone number is (847)789-0984.\n",
    "Darlene's social security number is 098-32-5295 and her phone number is (987)222-0901.\n",
    "\"\"\""
   ]
  },
  {
   "cell_type": "markdown",
   "metadata": {},
   "source": [
    "′\n",
    " 876−93−2289 \n",
    "′\n",
    " , \n",
    "′\n",
    " 098−32−5295 \n",
    "′"
   ]
  },
  {
   "cell_type": "markdown",
   "metadata": {},
   "source": [
    "### 14. Use a regular expression to find and extract all the phone numbers from the text below."
   ]
  },
  {
   "cell_type": "markdown",
   "metadata": {},
   "source": [
    "′\n",
    " (847)789−0984 \n",
    "′\n",
    " , \n",
    "′\n",
    " (987)222−0901 \n",
    "′"
   ]
  },
  {
   "cell_type": "markdown",
   "metadata": {},
   "source": [
    "### 15. Use a regular expression to find and extract all the formatted numbers (both social security and phone) from the text below."
   ]
  },
  {
   "cell_type": "markdown",
   "metadata": {},
   "source": [
    "\n",
    "′\n",
    "876\n",
    "−\n",
    "93\n",
    "−\n",
    "228\n",
    "9\n",
    "′\n",
    ",\n",
    "′\n",
    "(\n",
    "847\n",
    ")\n",
    "789\n",
    "−\n",
    "098\n",
    "4\n",
    "′\n",
    ",\n",
    "′\n",
    "098\n",
    "−\n",
    "32\n",
    "−\n",
    "529\n",
    "5\n",
    "′\n",
    ",\n",
    "′\n",
    "(\n",
    "987\n",
    ")\n",
    "222\n",
    "−\n",
    "090\n",
    "1\n",
    "′\n",
    "′\n",
    " 876−93−2289 \n",
    "′\n",
    " , \n",
    "′\n",
    " (847)789−0984 \n",
    "′\n",
    " , \n",
    "′\n",
    " 098−32−5295 \n",
    "′\n",
    " , \n",
    "′\n",
    " (987)222−0901"
   ]
  },
  {
   "cell_type": "code",
   "execution_count": null,
   "metadata": {},
   "outputs": [],
   "source": []
  }
 ],
 "metadata": {
  "kernelspec": {
   "display_name": "Python 3 (ipykernel)",
   "language": "python",
   "name": "python3"
  },
  "language_info": {
   "codemirror_mode": {
    "name": "ipython",
    "version": 3
   },
   "file_extension": ".py",
   "mimetype": "text/x-python",
   "name": "python",
   "nbconvert_exporter": "python",
   "pygments_lexer": "ipython3",
   "version": "3.11.4"
  }
 },
 "nbformat": 4,
 "nbformat_minor": 2
}
