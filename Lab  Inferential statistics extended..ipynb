{
 "cells": [
  {
   "cell_type": "markdown",
   "id": "6a6caa2b",
   "metadata": {},
   "source": [
    "Exercise 1: One-tailed t-test for Machine Packing Speeds"
   ]
  },
  {
   "cell_type": "code",
   "execution_count": 3,
   "id": "d91f8ac5",
   "metadata": {},
   "outputs": [
    {
     "data": {
      "text/plain": [
       "(-3.3972307061176026, 0.00162112473315899)"
      ]
     },
     "execution_count": 3,
     "metadata": {},
     "output_type": "execute_result"
    }
   ],
   "source": [
    "import pandas as pd\n",
    "from scipy.stats import ttest_ind\n",
    "\n",
    "# Load the data\n",
    "machine_data = pd.read_csv('machine.txt', sep='\\t', encoding='UTF-16')\n",
    "\n",
    "# Perform the t-test\n",
    "t_stat, p_value = ttest_ind(machine_data['New machine'], machine_data['    Old machine'], equal_var=False)\n",
    "\n",
    "# Compute the one-tailed p-value\n",
    "p_value_one_tailed = p_value / 2\n",
    "\n",
    "t_stat, p_value_one_tailed\n"
   ]
  },
  {
   "cell_type": "code",
   "execution_count": null,
   "id": "18207df6",
   "metadata": {},
   "outputs": [],
   "source": []
  },
  {
   "cell_type": "markdown",
   "id": "2195a829",
   "metadata": {},
   "source": [
    "Exercise 2: Matched Pairs Test for Pokémon Data"
   ]
  },
  {
   "cell_type": "code",
   "execution_count": 4,
   "id": "c60ee9ea",
   "metadata": {},
   "outputs": [
    {
     "data": {
      "text/plain": [
       "(4.325566393330478, 1.7140303479358558e-05)"
      ]
     },
     "execution_count": 4,
     "metadata": {},
     "output_type": "execute_result"
    }
   ],
   "source": [
    "from scipy.stats import ttest_rel\n",
    "\n",
    "# Load the Pokémon data\n",
    "pokemon_data = pd.read_csv('pokemon.csv')\n",
    "\n",
    "# Perform the paired t-test\n",
    "t_stat_pokemon, p_value_pokemon = ttest_rel(pokemon_data['Attack'], pokemon_data['Defense'])\n",
    "\n",
    "t_stat_pokemon, p_value_pokemon\n"
   ]
  },
  {
   "cell_type": "code",
   "execution_count": null,
   "id": "850ea0cc",
   "metadata": {},
   "outputs": [],
   "source": []
  },
  {
   "cell_type": "markdown",
   "id": "e56f4088",
   "metadata": {},
   "source": [
    "Exercise 3: ANOVA for Plasma Etching Process"
   ]
  },
  {
   "cell_type": "code",
   "execution_count": 5,
   "id": "5b693dc7",
   "metadata": {},
   "outputs": [
    {
     "data": {
      "text/plain": [
       "F_onewayResult(statistic=36.87895470100505, pvalue=7.506584272358903e-06)"
      ]
     },
     "execution_count": 5,
     "metadata": {},
     "output_type": "execute_result"
    }
   ],
   "source": [
    "import scipy.stats as stats\n",
    "\n",
    "# Load the ANOVA data\n",
    "anova_data = pd.read_excel('anova_lab_data.xlsx')\n",
    "\n",
    "# Perform ANOVA\n",
    "anova_result = stats.f_oneway(anova_data['Etching Rate'][anova_data['Power '] == '160 W'],\n",
    "                              anova_data['Etching Rate'][anova_data['Power '] == '180 W'],\n",
    "                              anova_data['Etching Rate'][anova_data['Power '] == '200 W'])\n",
    "\n",
    "anova_result\n"
   ]
  },
  {
   "cell_type": "code",
   "execution_count": null,
   "id": "1ed67fe9",
   "metadata": {},
   "outputs": [],
   "source": []
  },
  {
   "cell_type": "markdown",
   "id": "d4db5cd4",
   "metadata": {},
   "source": [
    "It's like using a flashlight. Some settings are dim and others are bright. We tested if different power settings on a machine changed its performance. And yes, just like a brighter flashlight lets you see further, different power settings on the machine made it work differently."
   ]
  }
 ],
 "metadata": {
  "kernelspec": {
   "display_name": "Python 3 (ipykernel)",
   "language": "python",
   "name": "python3"
  },
  "language_info": {
   "codemirror_mode": {
    "name": "ipython",
    "version": 3
   },
   "file_extension": ".py",
   "mimetype": "text/x-python",
   "name": "python",
   "nbconvert_exporter": "python",
   "pygments_lexer": "ipython3",
   "version": "3.11.4"
  }
 },
 "nbformat": 4,
 "nbformat_minor": 5
}
