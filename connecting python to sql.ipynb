{
 "cells": [
  {
   "cell_type": "code",
   "execution_count": 2,
   "id": "54c10014",
   "metadata": {},
   "outputs": [
    {
     "name": "stdout",
     "output_type": "stream",
     "text": [
      "Empty DataFrame\n",
      "Columns: [rentals_5_2020, customer_id, rentals_6_2020, difference]\n",
      "Index: []\n"
     ]
    }
   ],
   "source": [
    "import pandas as pd\n",
    "from sqlalchemy import create_engine\n",
    "\n",
    "# Step 1: Connect to the Sakila Database\n",
    "\n",
    "# Your password (make sure to fill this in)\n",
    "password = ''\n",
    "\n",
    "# Create a connection to the Sakila database\n",
    "connection_string = 'mysql+pymysql://root:' + password + '@localhost/sakila'\n",
    "engine = create_engine(connection_string)\n",
    "\n",
    "# Step 2: Retrieve Rental Data for a Specific Month and Year\n",
    "\n",
    "def rentals_month(engine, month, year):\n",
    "    # SQL query to get rental data for the specified month and year\n",
    "    query = f'''\n",
    "    SELECT * \n",
    "    FROM rental \n",
    "    WHERE MONTH(rental_date) = {month} AND YEAR(rental_date) = {year}\n",
    "    '''\n",
    "    # Execute the query and store the result in a DataFrame\n",
    "    data = pd.read_sql_query(query, engine)\n",
    "    return data\n",
    "\n",
    "# Step 3: Count Rentals by Customer for a Specific Month and Year\n",
    "\n",
    "def rental_count_month(data, month, year):\n",
    "    # Group the data by customer and count the rentals\n",
    "    rental_counts = data.groupby('customer_id').size().reset_index(name=f'rentals_{month}_{year}')\n",
    "    return rental_counts\n",
    "\n",
    "# Step 4: Compare Rentals Between Two Months\n",
    "\n",
    "def compare_rentals(df1, df2, month1, year1, month2, year2):\n",
    "    # Merge the two DataFrames on customer_id\n",
    "    merged_df = pd.merge(df1, df2, on='customer_id', how='inner')\n",
    "    \n",
    "    # Calculate the difference in rentals between the two months\n",
    "    merged_df['difference'] = merged_df[f'rentals_{month2}_{year2}'] - merged_df[f'rentals_{month1}_{year1}']\n",
    "    \n",
    "    return merged_df\n",
    "\n",
    "# Using the functions:\n",
    "\n",
    "# Get rental data for May and June\n",
    "may_data = rentals_month(engine, 5, 2020)\n",
    "june_data = rentals_month(engine, 6, 2020)\n",
    "\n",
    "# Count rentals by customer for May and June\n",
    "may_counts = rental_count_month(may_data, 5, 2020)\n",
    "june_counts = rental_count_month(june_data, 6, 2020)\n",
    "\n",
    "# Compare the rentals between May and June\n",
    "comparison = compare_rentals(may_counts, june_counts, 5, 2020, 6, 2020)\n",
    "print(comparison)\n"
   ]
  },
  {
   "cell_type": "code",
   "execution_count": null,
   "id": "fb0fbf01",
   "metadata": {},
   "outputs": [],
   "source": []
  }
 ],
 "metadata": {
  "kernelspec": {
   "display_name": "Python 3 (ipykernel)",
   "language": "python",
   "name": "python3"
  },
  "language_info": {
   "codemirror_mode": {
    "name": "ipython",
    "version": 3
   },
   "file_extension": ".py",
   "mimetype": "text/x-python",
   "name": "python",
   "nbconvert_exporter": "python",
   "pygments_lexer": "ipython3",
   "version": "3.11.4"
  }
 },
 "nbformat": 4,
 "nbformat_minor": 5
}
